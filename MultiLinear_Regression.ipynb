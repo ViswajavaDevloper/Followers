{
  "nbformat": 4,
  "nbformat_minor": 0,
  "metadata": {
    "colab": {
      "provenance": [],
      "authorship_tag": "ABX9TyNJxvxVjdg8jh4g7fu5agBC",
      "include_colab_link": true
    },
    "kernelspec": {
      "name": "python3",
      "display_name": "Python 3"
    },
    "language_info": {
      "name": "python"
    }
  },
  "cells": [
    {
      "cell_type": "markdown",
      "metadata": {
        "id": "view-in-github",
        "colab_type": "text"
      },
      "source": [
        "<a href=\"https://colab.research.google.com/github/ViswajavaDevloper/Followers/blob/master/MultiLinear_Regression.ipynb\" target=\"_parent\"><img src=\"https://colab.research.google.com/assets/colab-badge.svg\" alt=\"Open In Colab\"/></a>"
      ]
    },
    {
      "cell_type": "code",
      "execution_count": null,
      "metadata": {
        "colab": {
          "base_uri": "https://localhost:8080/"
        },
        "id": "ZyH7sJzOFEsQ",
        "outputId": "6b0c2b9a-b9ca-43f5-e461-d6453f1de66a"
      },
      "outputs": [
        {
          "output_type": "stream",
          "name": "stdout",
          "text": [
            "0.9101215232809355\n"
          ]
        }
      ],
      "source": [
        "import numpy as np\n",
        "import pandas as pd\n",
        "import matplotlib.pyplot as plt\n",
        "ds=pd.read_csv('50_Startups.csv')\n",
        "#print(ds)\n",
        "x=ds.iloc[:,:-1]\n",
        "y=ds.iloc[:,4]\n",
        "states=pd.get_dummies(x['State'],drop_first=True)\n",
        "#print(states)\n",
        "x=x.drop('State',axis=1)\n",
        "#print(x)\n",
        "x=pd.concat([x,states],axis=1)\n",
        "#print(x)\n",
        "from sklearn.model_selection import train_test_split\n",
        "x_test,x_train,y_test,y_train=train_test_split(x,y,test_size=0.2,random_state=0)\n",
        "# Fitting mulptle linear regression to the training set\n",
        "from sklearn.linear_model import LinearRegression\n",
        "rg=LinearRegression()\n",
        "rg.fit(x_train,y_train)\n",
        "#predicting the Set results\n",
        "y_pred=rg.predict(x_test)\n",
        "from sklearn.metrics import r2_score\n",
        "score=r2_score(y_test,y_pred)\n",
        "print(score)\n",
        "\n",
        "\n"
      ]
    },
    {
      "cell_type": "code",
      "source": [],
      "metadata": {
        "id": "vA98FikBF4eu"
      },
      "execution_count": null,
      "outputs": []
    }
  ]
}